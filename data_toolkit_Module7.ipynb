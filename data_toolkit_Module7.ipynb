{
 "cells": [
  {
   "cell_type": "code",
   "execution_count": null,
   "id": "9563b11e-ab79-487c-917b-f48c9addaae1",
   "metadata": {},
   "outputs": [],
   "source": [
    "                                                     # DATA_TOOLKIT_MODULE_7"
   ]
  },
  {
   "cell_type": "code",
   "execution_count": null,
   "id": "5dc34d3d-b66b-494b-b506-80420c195804",
   "metadata": {},
   "outputs": [],
   "source": [
    "Q1:  What is NumPy, and why is it widely used in Python?\n",
    "Ans  NumPy (Numerical Python) is a library for working with arrays and mathematical operations in Python. It's widely used due to its\n",
    "     efficiency, flexibility, and ability to handle large datasets."
   ]
  },
  {
   "cell_type": "code",
   "execution_count": null,
   "id": "a6a1bd3f-d390-45f5-bb2d-2960a228f0ce",
   "metadata": {},
   "outputs": [],
   "source": [
    "Q2:  How does broadcasting work in NumPy?\n",
    "Ans  Broadcasting is a mechanism in NumPy that allows arrays with different shapes and sizes to be operated on element-wise. It aligns\n",
    "     arrays based on their shapes and performs operations accordingly."
   ]
  },
  {
   "cell_type": "code",
   "execution_count": null,
   "id": "549dc880-7ded-4180-b0dc-8c7949fa0564",
   "metadata": {},
   "outputs": [],
   "source": [
    "Q3:  What is a Pandas DataFrame?\n",
    "Ans  A Pandas DataFrame is a two-dimensional data structure used for storing and manipulating tabular data. It consists of rows and \n",
    "     columns, similar to an Excel spreadsheet."
   ]
  },
  {
   "cell_type": "code",
   "execution_count": null,
   "id": "20300430-0e3e-4bba-bdec-547f82161adb",
   "metadata": {},
   "outputs": [],
   "source": [
    "Q4:  Explain the use of the groupby() method in Pandas.\n",
    "Ans  The groupby() method groups a DataFrame by one or more columns and performs aggregation operations on the grouped data. It's useful\n",
    "     for data analysis, filtering, and transformation.\n"
   ]
  },
  {
   "cell_type": "code",
   "execution_count": null,
   "id": "e9ef27db-39c3-4909-87ed-2baa47c5b63c",
   "metadata": {},
   "outputs": [],
   "source": [
    "Q5:  Why is Seaborn preferred for statistical visualizations?\n",
    "Ans  Seaborn is preferred for statistical visualizations due to its high-level interface, attractive default styles, and integration\n",
    "     with Pandas DataFrames. It provides a range of visualization tools for statistical analysis."
   ]
  },
  {
   "cell_type": "code",
   "execution_count": null,
   "id": "7d9e7017-af57-4338-b95c-df062fcd7b88",
   "metadata": {},
   "outputs": [],
   "source": [
    "Q6:  What are the differences between NumPy arrays and Python lists?\n",
    "Ans  NumPy arrays are more efficient, flexible, and suitable for numerical computations than Python lists. NumPy arrays provide\n",
    "     vectorized operations, broadcasting, and support for multidimensional data."
   ]
  },
  {
   "cell_type": "code",
   "execution_count": null,
   "id": "8d176eb0-4633-465d-b656-b8f7dea24998",
   "metadata": {},
   "outputs": [],
   "source": [
    "Q7:  What is a heatmap, and when should it be used?\n",
    "Ans  A heatmap is a graphical representation of data where values are depicted by color. It's used to visualize complex data, such as\n",
    "     correlation matrices, clustering results, or spatial data.\n"
   ]
  },
  {
   "cell_type": "code",
   "execution_count": null,
   "id": "28ffb6c2-84b4-454d-85cb-299503443ef2",
   "metadata": {},
   "outputs": [],
   "source": [
    "Q8:  What does the term “vectorized operation” mean in NumPy?\n",
    "Ans  Vectorized operations in NumPy refer to the ability to perform operations on entire arrays at once, rather than iterating over\n",
    "     individual elements. This approach is faster and more efficient."
   ]
  },
  {
   "cell_type": "code",
   "execution_count": null,
   "id": "fb875a56-3122-4488-bf55-6ca312b5b94f",
   "metadata": {},
   "outputs": [],
   "source": [
    "Q9:  How does Matplotlib differ from Plotly?\n",
    "Ans  Matplotlib is a static plotting library, while Plotly is an interactive visualization library. Matplotlib is ideal for creating\n",
    "     publication-quality plots, while Plotly is better suited for interactive web-based visualizations.\n"
   ]
  },
  {
   "cell_type": "code",
   "execution_count": null,
   "id": "416a5fd4-44ac-4601-9ae1-bcf41c8f1bc7",
   "metadata": {},
   "outputs": [],
   "source": [
    "Q10:  What is the significance of hierarchical indexing in Pandas?\n",
    "Ans   Hierarchical indexing in Pandas allows for efficient and intuitive data manipulation and analysis. It enables users to work with \n",
    "      complex data structures, such as time series data or data with multiple categories."
   ]
  },
  {
   "cell_type": "code",
   "execution_count": null,
   "id": "d819b0e1-b239-4e12-a4e0-0764c6f9731c",
   "metadata": {},
   "outputs": [],
   "source": [
    "Q11:  What is the role of Seaborn’s pairplot() function?\n",
    "Ans   Seaborn's pairplot() function creates a matrix of pairwise plots to visualize relationships between variables. It's useful for\n",
    "      exploratory data analysis and identifying correlations between variables"
   ]
  },
  {
   "cell_type": "code",
   "execution_count": null,
   "id": "6f2746cb-57f7-4ef2-b11a-b5861f6cc03b",
   "metadata": {},
   "outputs": [],
   "source": [
    "Q12:  What is the purpose of the describe() function in Pandas?\n",
    "Ans   The describe() function in Pandas provides a concise summary of a DataFrame, including statistics such as mean, median, mode, \n",
    "      and standard deviation. It's useful for understanding the distribution of data."
   ]
  },
  {
   "cell_type": "code",
   "execution_count": null,
   "id": "0a010db8-efd8-498f-a0a2-975884c6ecb7",
   "metadata": {},
   "outputs": [],
   "source": [
    "Q13:  Why is handling missing data important in Pandas?\n",
    "Ans   Handling missing data is crucial in Pandas because missing values can affect data analysis, modeling, and visualization. Pandas\n",
    "      provides various methods for handling missing data, such as filling, replacing, or dropping missing values."
   ]
  },
  {
   "cell_type": "code",
   "execution_count": null,
   "id": "21cfc3fc-d0ad-44f0-9eae-f8e8be9c3497",
   "metadata": {},
   "outputs": [],
   "source": [
    "Q14:  What are the benefits of using Plotly for data visualization?\n",
    "Ans   Plotly offers several benefits, including interactive visualizations, web-based sharing, and a wide range of visualization \n",
    "      tools. It's ideal for creating interactive dashboards and presentations."
   ]
  },
  {
   "cell_type": "code",
   "execution_count": null,
   "id": "ed09a2fb-a4d7-4f8b-bb7c-34374cb51950",
   "metadata": {},
   "outputs": [],
   "source": [
    "Q15:  How does NumPy handle multidimensional arrays?\n",
    "Ans   NumPy handles multidimensional arrays using its ndarray data structure. It provides efficient and flexible support for arrays \n",
    "      with multiple dimensions, allowing for vectorized operations and broadcasting."
   ]
  },
  {
   "cell_type": "code",
   "execution_count": null,
   "id": "e82139f7-dbf0-4678-b43d-2b05bf003f05",
   "metadata": {},
   "outputs": [],
   "source": [
    "Q16:  What is the role of Bokeh in data visualization?\n",
    "Ans   Bokeh is another interactive visualization library in Python. It provides elegant, concise construction of versatile graphics, \n",
    "      and also delivers this capability with high-performance interactivity over very large or streaming datasets."
   ]
  },
  {
   "cell_type": "code",
   "execution_count": null,
   "id": "a99a70ec-3183-4777-b759-c302cfd9b764",
   "metadata": {},
   "outputs": [],
   "source": [
    "Q17:  Explain the difference between apply() and map() in Pandas.\n",
    "Ans   The apply() function in Pandas applies a function to each row or column of a DataFrame. The map() function, on the other hand, \n",
    "      applies a function element-wise to a Series or DataFrame."
   ]
  },
  {
   "cell_type": "code",
   "execution_count": null,
   "id": "72831d3f-3d04-4cb3-b1b5-ed8ea006c284",
   "metadata": {},
   "outputs": [],
   "source": [
    "Q18:  What are some advanced features of NumPy?\n",
    "Ans   Some advanced features of NumPy include:\n",
    "\n",
    "     - Advanced indexing and slicing\n",
    "     - Broadcasting and vectorized operations\n",
    "     - Linear algebra operations\n",
    "     - Random number generation\n",
    "     - Data type manipulation"
   ]
  },
  {
   "cell_type": "code",
   "execution_count": null,
   "id": "0360f8b1-3820-4e1f-ba10-0e3a524009a2",
   "metadata": {},
   "outputs": [],
   "source": [
    "Q19:  How does Pandas simplify time series analysis?\n",
    "Ans   Pandas simplifies time series analysis by providing:\n",
    "\n",
    "      - Efficient data structures for time series data\n",
    "      - Time-based indexing and slicing\n",
    "      - Resampling and frequency conversion\n",
    "      - Rolling and expanding window calculations\n",
    "      - Integration with other libraries for time series analysis"
   ]
  },
  {
   "cell_type": "code",
   "execution_count": null,
   "id": "29838ddd-e70a-4b53-9849-4816aa9f2d0d",
   "metadata": {},
   "outputs": [],
   "source": [
    "Q20:  What is the role of a pivot table in Pandas?\n",
    "Ans   A pivot table in Pandas is a data summarization tool used to aggregate and analyze data. It allows you to rotate, aggregate,\n",
    "      and summarize data from a DataFrame, making it easier to analyze and visualize complex data. Pivot tables are particularly\n",
    "      useful for data analysis, reporting, and business intelligence."
   ]
  },
  {
   "cell_type": "code",
   "execution_count": null,
   "id": "e565df7b-4b58-4d40-8145-b6c388dc4100",
   "metadata": {},
   "outputs": [],
   "source": [
    "Q21:  Why is NumPy’s array slicing faster than Python’s list slicing?\n",
    "Ans   NumPy's array slicing is faster than Python's list slicing for several reasons:\n",
    "\n",
    "      1. Vectorized operations: NumPy arrays are designed for vectorized operations, which means that operations are applied\n",
    "         element-wise to the entire array at once. This approach is much faster than iterating over individual elements in a Python list.\n",
    "         \n",
    "      2. Memory layout: NumPy arrays store data in a contiguous block of memory, which allows for efficient caching and memory access.\n",
    "         Python lists, on the other hand, store data in a non-contiguous manner, leading to slower access times.\n",
    "         \n",
    "      3. Optimized C code: NumPy's array slicing is implemented in optimized C code, which provides a significant performance boost\n",
    "         compared to Python's list slicing."
   ]
  },
  {
   "cell_type": "code",
   "execution_count": null,
   "id": "4b322222-30e0-4689-8aa0-e5354946c881",
   "metadata": {},
   "outputs": [],
   "source": [
    "Q22:  What are some common use cases for Seaborn?\n",
    "Ans   Seaborn is a powerful data visualization library built on top of Matplotlib. Some common use cases for Seaborn include:\n",
    "\n",
    "      1. Exploratory data analysis: Seaborn provides a range of visualization tools, such as scatterplots, boxplots, and heatmaps,\n",
    "         to help you understand and explore your data.\n",
    "                                                                                                        \n",
    "      2. Statistical visualization: Seaborn offers tools for visualizing statistical relationships, such as regression plots,\n",
    "         residual plots, and Q-Q plots.\n",
    "                                                                                                        \n",
    "      3. Data storytelling: Seaborn's visualization tools can be used to create compelling stories and presentations from your data.\n",
    "                                                                                                        \n",
    "      4. Publication-quality plots: Seaborn's default styles and customization options make it easy to create publication-quality plots\n",
    "         for academic papers, reports, and presentations."
   ]
  },
  {
   "cell_type": "code",
   "execution_count": null,
   "id": "3f42f2ff-f024-48dc-b547-d057156958e3",
   "metadata": {},
   "outputs": [],
   "source": [
    "                                                            # PRACTICAL QUESTION"
   ]
  },
  {
   "cell_type": "code",
   "execution_count": null,
   "id": "a8478798-d6ac-4f79-821d-3df71d7f8238",
   "metadata": {},
   "outputs": [],
   "source": [
    "Q1:  Creating a 2D NumPy Array and Calculating Row Sums\n",
    "Ans  import numpy as np\n",
    "\n",
    "     # Create a 2D NumPy array\n",
    "     arr = np.array([[1, 2, 3], [4, 5, 6], [7, 8, 9]])\n",
    "\n",
    "     # Calculate the sum of each row\n",
    "     row_sums = np.sum(arr, axis=1)\n",
    "     print(row_sums)"
   ]
  },
  {
   "cell_type": "code",
   "execution_count": null,
   "id": "2451c21e-2085-43d0-b009-9fcee4af780e",
   "metadata": {},
   "outputs": [],
   "source": [
    "Q2:  Finding the Mean of a Specific Column in a Pandas DataFrame\n",
    "Ans  import pandas as pd\n",
    "\n",
    "      # Create a sample DataFrame\n",
    "      data = {'Name': ['John', 'Anna', 'Peter', 'Linda'],\n",
    "        'Age': [28, 24, 35, 32]}\n",
    "      df = pd.DataFrame(data)\n",
    "\n",
    "      # Find the mean of the 'Age' column\n",
    "      mean_age = df['Age'].mean()\n",
    "\n",
    "      print(mean_age)"
   ]
  },
  {
   "cell_type": "code",
   "execution_count": null,
   "id": "08946e09-b2fd-4ef5-9dbc-031ca59c5a7b",
   "metadata": {},
   "outputs": [],
   "source": [
    "Q3:   Creating a Scatter Plot using Matplotlib\n",
    "Ans - import matplotlib.pyplot as plt\n",
    "\n",
    "      # Create some sample data\n",
    "      x = [1, 2, 3, 4, 5]\n",
    "      y = [2, 4, 6, 8, 10]\n",
    "\n",
    "     # Create the scatter plot\n",
    "     plt.scatter(x, y)\n",
    "\n",
    "     # Add title and labels\n",
    "     plt.title('Scatter Plot Example')\n",
    "     plt.xlabel('X')\n",
    "     plt.ylabel('Y')\n",
    "\n",
    "     # Display the plot\n",
    "     plt.show()"
   ]
  },
  {
   "cell_type": "code",
   "execution_count": null,
   "id": "3fedbaa8-ee9e-406a-b924-3754c4384abf",
   "metadata": {},
   "outputs": [],
   "source": [
    "Q4:  How do you calculate the correlation matrix using Seaborn and visualize it with a heatmap?\n",
    "Ans  import seaborn as sns\n",
    "     import matplotlib.pyplot as plt\n",
    "     import numpy as np\n",
    "\n",
    "     # Create some sample data\n",
    "     np.random.seed(0)\n",
    "     data = np.random.randn(100, 5)\n",
    "\n",
    "    # Calculate the correlation matrix\n",
    "    corr_matrix = np.corrcoef(data.T)\n",
    "\n",
    "     # Create the heatmap\n",
    "     plt.figure(figsize=(8, 6))\n",
    "     sns.heatmap(corr_matrix, annot=True, cmap='coolwarm', square=True)\n",
    "\n",
    "     # Display the plot\n",
    "    plt.show()"
   ]
  },
  {
   "cell_type": "code",
   "execution_count": null,
   "id": "9bff2de8-25cc-43f5-8e90-209ec2b4cf6a",
   "metadata": {},
   "outputs": [],
   "source": [
    "Q5:  Generating a Bar Plot using Plotly\n",
    "Ans  import plotly.graph_objects as go\n",
    "\n",
    "     # Create some sample data\n",
    "     x = ['Apples', 'Bananas', 'Cherries', 'Dates']\n",
    "     y = [10, 15, 7, 12]\n",
    "\n",
    "     # Create the bar plot\n",
    "     fig = go.Figure(data=[go.Bar(x=x, y=y)])\n",
    "\n",
    "     # Add title and labels\n",
    "     fig.update_layout(title='Bar Plot Example',\n",
    "                   xaxis_title='Fruit',\n",
    "                   yaxis_title='Quantity')\n",
    "   \n",
    "     # Display the plot\n",
    "     fig.show()"
   ]
  },
  {
   "cell_type": "code",
   "execution_count": null,
   "id": "dfc8c839-d53c-4769-a292-d5d12df7a3ea",
   "metadata": {},
   "outputs": [],
   "source": [
    "Q6:  Create a DataFrame and add a new column based on an existing column.\n",
    "Ans  import pandas as pd\n",
    "\n",
    "     # Create a sample DataFrame\n",
    "     data = {'Name': ['John', 'Anna', 'Peter', 'Linda'],\n",
    "        'Age': [28, 24, 35, 32]}\n",
    "     df = pd.DataFrame(data)\n",
    "\n",
    "     # Add a new column 'Country'\n",
    "    df['Country'] = ['USA', 'UK', 'Australia', 'Germany']\n",
    "\n",
    "    print(df)\n"
   ]
  },
  {
   "cell_type": "code",
   "execution_count": null,
   "id": "1942886f-017d-431f-a0fb-77554c5eee10",
   "metadata": {},
   "outputs": [],
   "source": [
    "Q7:   Write a program to perform element-wise multiplication of two NumPy arrays?\n",
    "Ans   import numpy as np\n",
    "\n",
    "      # Create two sample arrays\n",
    "      arr1 = np.array([1, 2, 3, 4, 5])\n",
    "      arr2 = np.array([2, 4, 6, 8, 10])\n",
    "\n",
    "      # Perform element-wise multiplication\n",
    "     result = arr1 * arr2\n",
    "\n",
    "     print(result)\n",
    "\n"
   ]
  },
  {
   "cell_type": "code",
   "execution_count": null,
   "id": "edabdf16-ed99-45e9-93f7-d50108814aeb",
   "metadata": {},
   "outputs": [],
   "source": [
    "Q8:  Creating a Line Plot with Multiple Lines using Matplotlib\n",
    "Ans  import matplotlib.pyplot as plt\n",
    "\n",
    "      # Create some sample data\n",
    "       x = [1, 2, 3, 4, 5]\n",
    "      y1 = [2, 4, 6, 8, 10]\n",
    "      y2 = [1, 3, 5, 7, 9]\n",
    "\n",
    "       # Create the line plot\n",
    "       plt.plot(x, y1, label='Line 1')\n",
    "       plt.plot(x, y2, label='Line 2')\n",
    "\n",
    "       # Add title and labels\n",
    "       plt.title('Line Plot Example')\n",
    "       plt.xlabel('X')\n",
    "       plt.ylabel('Y')\n",
    "       plt.legend()\n",
    "\n",
    "       # Display the plot\n",
    "       plt.show()"
   ]
  },
  {
   "cell_type": "code",
   "execution_count": null,
   "id": "5d73fc4e-0c25-4487-acb6-52b0ec3e33bc",
   "metadata": {},
   "outputs": [],
   "source": [
    "Q9:  Generate a Pandas DataFrame and filter rows where a column value is greater than a threshold?\n",
    "Ans  import pandas as pd\n",
    "\n",
    "      # Create a sample DataFrame\n",
    "      data = {'Name': ['John', 'Anna', 'Peter', 'Linda'],\n",
    "        'Age': [28, 24, 35, 32]}\n",
    "       df = pd.DataFrame(data)\n",
    "\n",
    "      # Filter rows where Age is greater than 30\n",
    "      filtered_df = df[df['Age'] > 30]\n",
    "\n",
    "      print(filtered_df)\n"
   ]
  },
  {
   "cell_type": "code",
   "execution_count": null,
   "id": "ae065fce-9af4-4978-9633-3fb5dd43ea06",
   "metadata": {},
   "outputs": [],
   "source": [
    "Q10:  Create a histogram using Seaborn to visualize a distribution?\n",
    "Ans   import seaborn as sns\n",
    "      import matplotlib.pyplot as plt\n",
    "      import numpy as np\n",
    "\n",
    "      # Create some sample data\n",
    "       np.random.seed(0)\n",
    "       data = np.random.randn(1000)\n",
    "\n",
    "      # Create the histogram\n",
    "       plt.figure(figsize=(8, 6))\n",
    "       sns.histplot(data, bins=30, kde=True)\n",
    "\n",
    "      # Add title and labels\n",
    "       plt.title('Histogram Example')\n",
    "       plt.xlabel('Value')\n",
    "       plt.ylabel('Frequency')\n",
    "\n",
    "      # Display the plot\n",
    "        plt.show()"
   ]
  },
  {
   "cell_type": "code",
   "execution_count": null,
   "id": "b033241f-0343-4faf-abdd-7d5adfd5b65f",
   "metadata": {},
   "outputs": [],
   "source": [
    "Q11:  Performing Matrix Multiplication using NumPy\n",
    "Ans   import numpy as np\n",
    "\n",
    "       # Create two sample matrices\n",
    "         matrix1 = np.array([[1, 2], [3, 4]])\n",
    "         matrix2 = np.array([[5, 6], [7, 8]])\n",
    "\n",
    "       # Perform matrix multiplication\n",
    "         result = np.matmul(matrix1, matrix2)\n",
    "\n",
    "         print(result)"
   ]
  },
  {
   "cell_type": "code",
   "execution_count": null,
   "id": "62da182b-80a4-4734-b57e-e9d58bedd350",
   "metadata": {},
   "outputs": [],
   "source": [
    "Q12:  Use Pandas to load a CSV file and display its first 5 rows?\n",
    "Ans   import pandas as pd\n",
    "\n",
    "      # Load the CSV file\n",
    "      df = pd.read_csv('data.csv')\n",
    "\n",
    "      # Display the first 5 rows\n",
    "      print(df.head(5))\n"
   ]
  },
  {
   "cell_type": "code",
   "execution_count": null,
   "id": "dea9e3f7-8533-47f3-9d44-f16f6cae870f",
   "metadata": {},
   "outputs": [],
   "source": [
    "Q13:  Creating a 3D Scatter Plot using Plotly\n",
    "Ans   import plotly.graph_objects as go\n",
    "      import numpy as np\n",
    "\n",
    "      # Create some sample data\n",
    "       np.random.seed(0)  \n",
    "       x = np.random.randn(100)\n",
    "       y = np.random.randn(100)\n",
    "       z = np.random.randn(100)\n",
    "\n",
    "      # Create the 3D scatter plot\n",
    "     fig = go.Figure(data=[go.Scatter3d(x=x, y=y, z=z, mode='markers')])\n",
    "\n",
    "      # Add title and labels\n",
    "     fig.update_layout(title='3D Scatter Plot Example',\n",
    "                   scene=dict(xaxis_title='X',\n",
    "                               yaxis_title='Y',\n",
    "                               zaxis_title='Z'))\n",
    "      \n",
    "      # Display the plot\n",
    "     fig.show()\n"
   ]
  }
 ],
 "metadata": {
  "kernelspec": {
   "display_name": "Python 3 (ipykernel)",
   "language": "python",
   "name": "python3"
  },
  "language_info": {
   "codemirror_mode": {
    "name": "ipython",
    "version": 3
   },
   "file_extension": ".py",
   "mimetype": "text/x-python",
   "name": "python",
   "nbconvert_exporter": "python",
   "pygments_lexer": "ipython3",
   "version": "3.11.7"
  }
 },
 "nbformat": 4,
 "nbformat_minor": 5
}
